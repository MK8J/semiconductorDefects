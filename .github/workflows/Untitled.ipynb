{
 "cells": [
  {
   "cell_type": "code",
   "execution_count": 1,
   "metadata": {},
   "outputs": [],
   "source": [
    "import yaml2new\n",
    "import scipy.constants as const\n",
    "import numpy as np\n",
    "from scipy.special import lambertw\n"
   ]
  },
  {
   "cell_type": "code",
   "execution_count": 2,
   "metadata": {},
   "outputs": [
    {
     "name": "stdout",
     "output_type": "stream",
     "text": [
      "0.62 5e-16\n"
     ]
    },
    {
     "data": {
      "text/plain": [
       "array([274.26471501, 298.5384835 , 327.31135228, 361.91299699])"
      ]
     },
     "execution_count": 2,
     "metadata": {},
     "output_type": "execute_result"
    }
   ],
   "source": [
    "eda = 0.62\n",
    "sigma = 5e-16\n",
    "\n",
    "data_dic = {'params': \n",
    "                   { 'Ed_a': 'Ec-0.62' ,\n",
    "                    'sigma_ea':sigma\n",
    "                   }}\n",
    "temps = yaml2new.getTemps(data_dic )\n",
    "temps"
   ]
  },
  {
   "cell_type": "code",
   "execution_count": 8,
   "metadata": {},
   "outputs": [
    {
     "data": {
      "text/plain": [
       "array([1.04979989e+00, 1.05835459e+01, 1.06925378e+02, 1.08342105e+03])"
      ]
     },
     "execution_count": 8,
     "metadata": {},
     "output_type": "execute_result"
    }
   ],
   "source": [
    "Nc = 2.89e19\n",
    "vth = 2.046e7\n",
    "k = const.k/const.e\n",
    "\n",
    "e = Nc*vth / 300**2 * 5e-16*temps**2 * np.exp(-eda/k/temps)\n",
    "e"
   ]
  },
  {
   "cell_type": "code",
   "execution_count": 12,
   "metadata": {},
   "outputs": [],
   "source": [
    "er = np.array([1,10,100,1000])*1.0"
   ]
  },
  {
   "cell_type": "code",
   "execution_count": 19,
   "metadata": {},
   "outputs": [
    {
     "data": {
      "text/plain": [
       "array([274.73761151, 299.18856558, 328.22772015, 363.24295984])"
      ]
     },
     "execution_count": 19,
     "metadata": {},
     "output_type": "execute_result"
    }
   ],
   "source": [
    "a = Nc*vth / 300**2\n",
    "a *= sigma/er\n",
    "\n",
    "b =  eda / k \n",
    "\n",
    "b / 2 / lambertw(-np.sqrt(a) * b / 2, tol=1e-10).real\n",
    "\n"
   ]
  },
  {
   "cell_type": "code",
   "execution_count": 42,
   "metadata": {},
   "outputs": [
    {
     "name": "stdout",
     "output_type": "stream",
     "text": [
      "[2.54374637e+08 8.04403232e+07 2.54374637e+07 8.04403232e+06]\n",
      "[16.54805039 15.46448034 14.38551201 13.31179087]\n",
      "[217.39120513 232.62344023 250.07108655 270.2416716 ]\n"
     ]
    },
    {
     "data": {
      "text/plain": [
       "array([   1.,   10.,  100., 1000.])"
      ]
     },
     "execution_count": 42,
     "metadata": {},
     "output_type": "execute_result"
    }
   ],
   "source": [
    "eda = 0.62\n",
    "inter = 5e9\n",
    "\n",
    "a = Nc*vth / 300**2\n",
    "a *= inter/er\n",
    "\n",
    "b =  eda / k \n",
    "\n",
    "z = b/2 * np.sqrt(inter/er)\n",
    "print(z)\n",
    "w = lambertw(z, tol=1e-10).real\n",
    "print(w)\n",
    "ts = 1/w/k/2*eda\n",
    "print(ts)\n",
    "\n",
    "e = inter * ts**2 * np.exp(-eda/k/ts)\n",
    "e"
   ]
  },
  {
   "cell_type": "code",
   "execution_count": 44,
   "metadata": {},
   "outputs": [
    {
     "data": {
      "text/plain": [
       "(array([2.54374637e+08, 8.04403232e+07, 2.54374637e+07, 8.04403232e+06]),\n",
       " array([16.54805039, 15.46448034, 14.38551201, 13.31179087]),\n",
       " array([217.39120513, 232.62344023, 250.07108655, 270.2416716 ]),\n",
       " array([1.e+00, 1.e+01, 1.e+02, 1.e+03]))"
      ]
     },
     "execution_count": 44,
     "metadata": {},
     "output_type": "execute_result"
    }
   ],
   "source": [
    "# a = Nc*vth / 300**2\n",
    "a = inter/er\n",
    "b =  eda / k \n",
    "\n",
    "z = np.sqrt(a) * b / 2\n",
    "w = lambertw(z, tol=1e-10).real\n",
    "\n",
    "ts = b / 2 / w\n",
    "\n",
    "e = inter * ts**2 * np.exp(-eda/k/ts)\n",
    "z, w, ts, e"
   ]
  },
  {
   "cell_type": "code",
   "execution_count": 51,
   "metadata": {},
   "outputs": [
    {
     "name": "stdout",
     "output_type": "stream",
     "text": [
      "[6520100.47691417 2061836.80801989  652010.04769142  206183.68080199] [13.11652728 12.05003983 10.9907603   9.93995974]\n"
     ]
    },
    {
     "data": {
      "text/plain": [
       "(array([274.26471501, 298.5384835 , 327.31135228, 361.91299699]),\n",
       " array([   1.,   10.,  100., 1000.]))"
      ]
     },
     "execution_count": 51,
     "metadata": {},
     "output_type": "execute_result"
    }
   ],
   "source": [
    "\n",
    "a = Nc*vth*sigma / 300**2/er\n",
    "b = eda / k \n",
    "\n",
    "z = np.sqrt(a) * b / 2\n",
    "w = lambertw(z, tol=1e-10).real\n",
    "\n",
    "ts = b / 2 / w\n",
    "\n",
    "e = sigma *Nc*vth/ 300**2 *ts**2 * np.exp(-eda/k/ts)\n",
    "print(z, w)\n",
    "\n",
    "ts,e"
   ]
  },
  {
   "cell_type": "code",
   "execution_count": null,
   "metadata": {},
   "outputs": [],
   "source": []
  }
 ],
 "metadata": {
  "kernelspec": {
   "display_name": "Python 3",
   "language": "python",
   "name": "python3"
  },
  "language_info": {
   "codemirror_mode": {
    "name": "ipython",
    "version": 3
   },
   "file_extension": ".py",
   "mimetype": "text/x-python",
   "name": "python",
   "nbconvert_exporter": "python",
   "pygments_lexer": "ipython3",
   "version": "3.8.6"
  }
 },
 "nbformat": 4,
 "nbformat_minor": 4
}
